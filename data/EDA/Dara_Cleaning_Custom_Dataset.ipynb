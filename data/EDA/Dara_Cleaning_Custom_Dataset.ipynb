{
 "cells": [
  {
   "cell_type": "code",
   "execution_count": 1,
   "id": "54e77e96",
   "metadata": {},
   "outputs": [],
   "source": [
    "import pandas as pd\n",
    "import numpy as np\n",
    "import os\n",
    "from sklearn.preprocessing import LabelEncoder\n",
    "from sklearn.preprocessing import StandardScaler\n"
   ]
  },
  {
   "cell_type": "code",
   "execution_count": 3,
   "id": "32d10e85",
   "metadata": {},
   "outputs": [],
   "source": [
    "df_mal = pd.read_csv(\"C:\\\\Users\\\\amogh\\\\OneDrive\\\\Documents\\\\GitHub\\\\InnovationProject\\\\data\\\\raw\\\\malware_dataset.csv\")\n",
    "df_benign= pd.read_csv(\"C:\\\\Users\\\\amogh\\\\OneDrive\\\\Documents\\\\GitHub\\\\InnovationProject\\\\data\\\\raw\\\\benign.csv\")"
   ]
  },
  {
   "cell_type": "code",
   "execution_count": null,
   "id": "0305d5bf",
   "metadata": {},
   "outputs": [
    {
     "ename": "",
     "evalue": "",
     "output_type": "error",
     "traceback": [
      "\u001b[1;31mnotebook controller is DISPOSED. \n",
      "\u001b[1;31mView Jupyter <a href='command:jupyter.viewOutput'>log</a> for further details."
     ]
    }
   ],
   "source": [
    "combined = pd.concat"
   ]
  }
 ],
 "metadata": {
  "kernelspec": {
   "display_name": "base",
   "language": "python",
   "name": "python3"
  },
  "language_info": {
   "codemirror_mode": {
    "name": "ipython",
    "version": 3
   },
   "file_extension": ".py",
   "mimetype": "text/x-python",
   "name": "python",
   "nbconvert_exporter": "python",
   "pygments_lexer": "ipython3",
   "version": "3.11.8"
  }
 },
 "nbformat": 4,
 "nbformat_minor": 5
}
