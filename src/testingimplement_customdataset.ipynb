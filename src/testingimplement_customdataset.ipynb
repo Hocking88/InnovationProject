{
 "cells": [
  {
   "cell_type": "code",
   "execution_count": 11,
   "id": "c92b16aa",
   "metadata": {},
   "outputs": [],
   "source": [
    "import pandas as pd\n",
    "from sklearn.model_selection import train_test_split\n",
    "from sklearn.linear_model import LogisticRegression\n",
    "from sklearn.ensemble import RandomForestClassifier\n",
    "from sklearn.cluster import KMeans\n",
    "from sklearn.metrics import (\n",
    "    classification_report, confusion_matrix, roc_auc_score, silhouette_score\n",
    ")\n",
    "import seaborn as sns\n",
    "import matplotlib.pyplot as plt\n"
   ]
  },
  {
   "cell_type": "code",
   "execution_count": 12,
   "id": "5b7c530c",
   "metadata": {},
   "outputs": [
    {
     "data": {
      "text/html": [
       "<div>\n",
       "<style scoped>\n",
       "    .dataframe tbody tr th:only-of-type {\n",
       "        vertical-align: middle;\n",
       "    }\n",
       "\n",
       "    .dataframe tbody tr th {\n",
       "        vertical-align: top;\n",
       "    }\n",
       "\n",
       "    .dataframe thead th {\n",
       "        text-align: right;\n",
       "    }\n",
       "</style>\n",
       "<table border=\"1\" class=\"dataframe\">\n",
       "  <thead>\n",
       "    <tr style=\"text-align: right;\">\n",
       "      <th></th>\n",
       "      <th>Unnamed: 0</th>\n",
       "      <th>type</th>\n",
       "      <th>malice</th>\n",
       "      <th>generic</th>\n",
       "      <th>trojan</th>\n",
       "      <th>ransomware</th>\n",
       "      <th>worm</th>\n",
       "      <th>backdoor</th>\n",
       "      <th>spyware</th>\n",
       "      <th>rootkit</th>\n",
       "      <th>encrypter</th>\n",
       "      <th>downloader</th>\n",
       "      <th>label</th>\n",
       "    </tr>\n",
       "  </thead>\n",
       "  <tbody>\n",
       "    <tr>\n",
       "      <th>0</th>\n",
       "      <td>0</td>\n",
       "      <td>0</td>\n",
       "      <td>0.883721</td>\n",
       "      <td>0.428571</td>\n",
       "      <td>0.428571</td>\n",
       "      <td>1.304633</td>\n",
       "      <td>0.352157</td>\n",
       "      <td>-0.335018</td>\n",
       "      <td>-0.127166</td>\n",
       "      <td>-0.222028</td>\n",
       "      <td>0.085714</td>\n",
       "      <td>-0.299107</td>\n",
       "      <td>1</td>\n",
       "    </tr>\n",
       "    <tr>\n",
       "      <th>1</th>\n",
       "      <td>1</td>\n",
       "      <td>0</td>\n",
       "      <td>0.900763</td>\n",
       "      <td>0.527027</td>\n",
       "      <td>0.378378</td>\n",
       "      <td>1.220664</td>\n",
       "      <td>-0.430986</td>\n",
       "      <td>0.087992</td>\n",
       "      <td>-0.127166</td>\n",
       "      <td>-0.222028</td>\n",
       "      <td>0.040541</td>\n",
       "      <td>-0.310532</td>\n",
       "      <td>1</td>\n",
       "    </tr>\n",
       "    <tr>\n",
       "      <th>2</th>\n",
       "      <td>2</td>\n",
       "      <td>0</td>\n",
       "      <td>0.925373</td>\n",
       "      <td>0.178571</td>\n",
       "      <td>0.500000</td>\n",
       "      <td>8.165629</td>\n",
       "      <td>0.221633</td>\n",
       "      <td>-0.335018</td>\n",
       "      <td>-0.127166</td>\n",
       "      <td>-0.222028</td>\n",
       "      <td>0.047619</td>\n",
       "      <td>1.074720</td>\n",
       "      <td>1</td>\n",
       "    </tr>\n",
       "    <tr>\n",
       "      <th>3</th>\n",
       "      <td>3</td>\n",
       "      <td>0</td>\n",
       "      <td>0.863636</td>\n",
       "      <td>0.453125</td>\n",
       "      <td>0.546875</td>\n",
       "      <td>-0.248800</td>\n",
       "      <td>-0.430986</td>\n",
       "      <td>-0.335018</td>\n",
       "      <td>-0.127166</td>\n",
       "      <td>-0.222028</td>\n",
       "      <td>0.000000</td>\n",
       "      <td>-0.510465</td>\n",
       "      <td>1</td>\n",
       "    </tr>\n",
       "    <tr>\n",
       "      <th>4</th>\n",
       "      <td>4</td>\n",
       "      <td>0</td>\n",
       "      <td>0.903704</td>\n",
       "      <td>0.561644</td>\n",
       "      <td>0.438356</td>\n",
       "      <td>-0.248800</td>\n",
       "      <td>-0.430986</td>\n",
       "      <td>-0.335018</td>\n",
       "      <td>-0.127166</td>\n",
       "      <td>-0.222028</td>\n",
       "      <td>0.000000</td>\n",
       "      <td>-0.510465</td>\n",
       "      <td>1</td>\n",
       "    </tr>\n",
       "  </tbody>\n",
       "</table>\n",
       "</div>"
      ],
      "text/plain": [
       "   Unnamed: 0  type    malice   generic    trojan  ransomware      worm  \\\n",
       "0           0     0  0.883721  0.428571  0.428571    1.304633  0.352157   \n",
       "1           1     0  0.900763  0.527027  0.378378    1.220664 -0.430986   \n",
       "2           2     0  0.925373  0.178571  0.500000    8.165629  0.221633   \n",
       "3           3     0  0.863636  0.453125  0.546875   -0.248800 -0.430986   \n",
       "4           4     0  0.903704  0.561644  0.438356   -0.248800 -0.430986   \n",
       "\n",
       "   backdoor   spyware   rootkit  encrypter  downloader  label  \n",
       "0 -0.335018 -0.127166 -0.222028   0.085714   -0.299107      1  \n",
       "1  0.087992 -0.127166 -0.222028   0.040541   -0.310532      1  \n",
       "2 -0.335018 -0.127166 -0.222028   0.047619    1.074720      1  \n",
       "3 -0.335018 -0.127166 -0.222028   0.000000   -0.510465      1  \n",
       "4 -0.335018 -0.127166 -0.222028   0.000000   -0.510465      1  "
      ]
     },
     "execution_count": 12,
     "metadata": {},
     "output_type": "execute_result"
    }
   ],
   "source": [
    "df = pd.read_csv(\"/Users/behjiayi/Documents/GitHub/InnovationProject/data/EDA/Cleaned_combined_malware_dataset.csv\")\n",
    "df.head()"
   ]
  },
  {
   "cell_type": "code",
   "execution_count": 13,
   "id": "00b8b5aa",
   "metadata": {},
   "outputs": [],
   "source": [
    "X = df.drop(columns=[\"type\", \"label\"])  # use relevant numeric features only\n",
    "y = df[\"label\"]\n",
    "\n",
    "X_train, X_test, y_train, y_test = train_test_split(\n",
    "    X, y, test_size=0.2, random_state=42, stratify=y\n",
    ")\n"
   ]
  },
  {
   "cell_type": "code",
   "execution_count": 14,
   "id": "4939bfc9",
   "metadata": {},
   "outputs": [
    {
     "name": "stdout",
     "output_type": "stream",
     "text": [
      "Logistic Regression Report:\n",
      "               precision    recall  f1-score   support\n",
      "\n",
      "           0       1.00      1.00      1.00       216\n",
      "           1       1.00      1.00      1.00      2169\n",
      "\n",
      "    accuracy                           1.00      2385\n",
      "   macro avg       1.00      1.00      1.00      2385\n",
      "weighted avg       1.00      1.00      1.00      2385\n",
      "\n",
      "ROC AUC: 1.0\n"
     ]
    }
   ],
   "source": [
    "log_reg = LogisticRegression(max_iter=1000)\n",
    "log_reg.fit(X_train, y_train)\n",
    "y_pred_lr = log_reg.predict(X_test)\n",
    "\n",
    "print(\"Logistic Regression Report:\\n\", classification_report(y_test, y_pred_lr))\n",
    "print(\"ROC AUC:\", roc_auc_score(y_test, y_pred_lr))\n"
   ]
  },
  {
   "cell_type": "code",
   "execution_count": 15,
   "id": "8544284b",
   "metadata": {},
   "outputs": [
    {
     "name": "stdout",
     "output_type": "stream",
     "text": [
      "Random Forest Report:\n",
      "               precision    recall  f1-score   support\n",
      "\n",
      "           0       1.00      1.00      1.00       216\n",
      "           1       1.00      1.00      1.00      2169\n",
      "\n",
      "    accuracy                           1.00      2385\n",
      "   macro avg       1.00      1.00      1.00      2385\n",
      "weighted avg       1.00      1.00      1.00      2385\n",
      "\n",
      "ROC AUC: 1.0\n"
     ]
    }
   ],
   "source": [
    "rf = RandomForestClassifier(n_estimators=200, random_state=42)\n",
    "rf.fit(X_train, y_train)\n",
    "y_pred_rf = rf.predict(X_test)\n",
    "\n",
    "print(\"Random Forest Report:\\n\", classification_report(y_test, y_pred_rf))\n",
    "print(\"ROC AUC:\", roc_auc_score(y_test, y_pred_rf))\n"
   ]
  },
  {
   "cell_type": "code",
   "execution_count": 16,
   "id": "0e95bb47",
   "metadata": {},
   "outputs": [
    {
     "data": {
      "image/png": "[encoded data removed]",
      "text/plain": [
       "<Figure size 640x480 with 2 Axes>"
      ]
     },
     "metadata": {},
     "output_type": "display_data"
    }
   ],
   "source": [
    "sns.heatmap(confusion_matrix(y_test, y_pred_rf), annot=True, fmt=\"d\", cmap=\"Blues\")\n",
    "plt.title(\"Random Forest Confusion Matrix\")\n",
    "plt.xlabel(\"Predicted\")\n",
    "plt.ylabel(\"Actual\")\n",
    "plt.show()\n"
   ]
  },
  {
   "cell_type": "code",
   "execution_count": 17,
   "id": "30516803",
   "metadata": {},
   "outputs": [
    {
     "name": "stdout",
     "output_type": "stream",
     "text": [
      "K-Means Silhouette Score: 0.6403618618968208\n"
     ]
    }
   ],
   "source": [
    "kmeans = KMeans(n_clusters=2, random_state=42)\n",
    "cluster_labels = kmeans.fit_predict(X)\n",
    "\n",
    "print(\"K-Means Silhouette Score:\", silhouette_score(X, cluster_labels))\n"
   ]
  }
 ],
 "metadata": {
  "kernelspec": {
   "display_name": "Python 3",
   "language": "python",
   "name": "python3"
  },
  "language_info": {
   "codemirror_mode": {
    "name": "ipython",
    "version": 3
   },
   "file_extension": ".py",
   "mimetype": "text/x-python",
   "name": "python",
   "nbconvert_exporter": "python",
   "pygments_lexer": "ipython3",
   "version": "3.12.3"
  }
 },
 "nbformat": 4,
 "nbformat_minor": 5
}
