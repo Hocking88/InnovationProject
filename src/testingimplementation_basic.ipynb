{
 "cells": [
  {
   "cell_type": "code",
   "execution_count": 11,
   "id": "1d6a7e2e",
   "metadata": {},
   "outputs": [],
   "source": [
    "import pandas as pd\n",
    "from sklearn.model_selection import train_test_split\n",
    "from sklearn.linear_model import LogisticRegression\n",
    "from sklearn.ensemble import RandomForestClassifier\n",
    "from sklearn.cluster import KMeans\n",
    "from sklearn.metrics import (\n",
    "    classification_report, confusion_matrix, roc_auc_score, silhouette_score\n",
    ")\n",
    "import seaborn as sns\n",
    "import matplotlib.pyplot as plt\n"
   ]
  },
  {
   "cell_type": "code",
   "execution_count": 12,
   "id": "35e66c9c",
   "metadata": {},
   "outputs": [
    {
     "data": {
      "text/html": [
       "<div>\n",
       "<style scoped>\n",
       "    .dataframe tbody tr th:only-of-type {\n",
       "        vertical-align: middle;\n",
       "    }\n",
       "\n",
       "    .dataframe tbody tr th {\n",
       "        vertical-align: top;\n",
       "    }\n",
       "\n",
       "    .dataframe thead th {\n",
       "        text-align: right;\n",
       "    }\n",
       "</style>\n",
       "<table border=\"1\" class=\"dataframe\">\n",
       "  <thead>\n",
       "    <tr style=\"text-align: right;\">\n",
       "      <th></th>\n",
       "      <th>Unnamed: 0</th>\n",
       "      <th>millisecond</th>\n",
       "      <th>classification</th>\n",
       "      <th>state</th>\n",
       "      <th>prio</th>\n",
       "      <th>static_prio</th>\n",
       "      <th>vm_truncate_count</th>\n",
       "      <th>free_area_cache</th>\n",
       "      <th>mm_users</th>\n",
       "      <th>map_count</th>\n",
       "      <th>...</th>\n",
       "      <th>end_data</th>\n",
       "      <th>last_interval</th>\n",
       "      <th>nvcsw</th>\n",
       "      <th>nivcsw</th>\n",
       "      <th>min_flt</th>\n",
       "      <th>maj_flt</th>\n",
       "      <th>fs_excl_counter</th>\n",
       "      <th>utime</th>\n",
       "      <th>stime</th>\n",
       "      <th>gtime</th>\n",
       "    </tr>\n",
       "  </thead>\n",
       "  <tbody>\n",
       "    <tr>\n",
       "      <th>0</th>\n",
       "      <td>0</td>\n",
       "      <td>0</td>\n",
       "      <td>1</td>\n",
       "      <td>-0.168526</td>\n",
       "      <td>-1.105059</td>\n",
       "      <td>-0.848177</td>\n",
       "      <td>-0.657076</td>\n",
       "      <td>0.309909</td>\n",
       "      <td>724</td>\n",
       "      <td>-0.507528</td>\n",
       "      <td>...</td>\n",
       "      <td>120</td>\n",
       "      <td>3473</td>\n",
       "      <td>-0.695251</td>\n",
       "      <td>-0.625663</td>\n",
       "      <td>-0.147906</td>\n",
       "      <td>120</td>\n",
       "      <td>-0.513406</td>\n",
       "      <td>-0.465838</td>\n",
       "      <td>4</td>\n",
       "      <td>-0.509166</td>\n",
       "    </tr>\n",
       "    <tr>\n",
       "      <th>1</th>\n",
       "      <td>1</td>\n",
       "      <td>1</td>\n",
       "      <td>1</td>\n",
       "      <td>-0.168526</td>\n",
       "      <td>-1.105059</td>\n",
       "      <td>-0.848177</td>\n",
       "      <td>-0.657076</td>\n",
       "      <td>0.309909</td>\n",
       "      <td>724</td>\n",
       "      <td>-0.507528</td>\n",
       "      <td>...</td>\n",
       "      <td>120</td>\n",
       "      <td>3473</td>\n",
       "      <td>-0.695251</td>\n",
       "      <td>-0.625663</td>\n",
       "      <td>-0.147906</td>\n",
       "      <td>120</td>\n",
       "      <td>-0.513406</td>\n",
       "      <td>-0.465838</td>\n",
       "      <td>4</td>\n",
       "      <td>-0.509166</td>\n",
       "    </tr>\n",
       "    <tr>\n",
       "      <th>2</th>\n",
       "      <td>2</td>\n",
       "      <td>2</td>\n",
       "      <td>1</td>\n",
       "      <td>-0.168526</td>\n",
       "      <td>-1.105059</td>\n",
       "      <td>-0.848177</td>\n",
       "      <td>-0.657076</td>\n",
       "      <td>0.309909</td>\n",
       "      <td>724</td>\n",
       "      <td>-0.507528</td>\n",
       "      <td>...</td>\n",
       "      <td>120</td>\n",
       "      <td>3473</td>\n",
       "      <td>-0.695251</td>\n",
       "      <td>-0.625663</td>\n",
       "      <td>-0.147906</td>\n",
       "      <td>120</td>\n",
       "      <td>-0.513406</td>\n",
       "      <td>-0.465838</td>\n",
       "      <td>4</td>\n",
       "      <td>-0.509166</td>\n",
       "    </tr>\n",
       "    <tr>\n",
       "      <th>3</th>\n",
       "      <td>3</td>\n",
       "      <td>3</td>\n",
       "      <td>1</td>\n",
       "      <td>-0.168526</td>\n",
       "      <td>-1.105059</td>\n",
       "      <td>-0.848177</td>\n",
       "      <td>-0.657076</td>\n",
       "      <td>0.309909</td>\n",
       "      <td>724</td>\n",
       "      <td>-0.507528</td>\n",
       "      <td>...</td>\n",
       "      <td>120</td>\n",
       "      <td>3473</td>\n",
       "      <td>-0.695251</td>\n",
       "      <td>-0.625663</td>\n",
       "      <td>-0.147906</td>\n",
       "      <td>120</td>\n",
       "      <td>-0.513406</td>\n",
       "      <td>-0.465838</td>\n",
       "      <td>4</td>\n",
       "      <td>-0.509166</td>\n",
       "    </tr>\n",
       "    <tr>\n",
       "      <th>4</th>\n",
       "      <td>4</td>\n",
       "      <td>4</td>\n",
       "      <td>1</td>\n",
       "      <td>-0.168526</td>\n",
       "      <td>-1.105059</td>\n",
       "      <td>-0.848177</td>\n",
       "      <td>-0.657076</td>\n",
       "      <td>0.309909</td>\n",
       "      <td>724</td>\n",
       "      <td>-0.507528</td>\n",
       "      <td>...</td>\n",
       "      <td>120</td>\n",
       "      <td>3473</td>\n",
       "      <td>-0.695251</td>\n",
       "      <td>-0.625663</td>\n",
       "      <td>-0.147906</td>\n",
       "      <td>120</td>\n",
       "      <td>-0.513406</td>\n",
       "      <td>-0.465838</td>\n",
       "      <td>4</td>\n",
       "      <td>-0.509166</td>\n",
       "    </tr>\n",
       "  </tbody>\n",
       "</table>\n",
       "<p>5 rows × 24 columns</p>\n",
       "</div>"
      ],
      "text/plain": [
       "   Unnamed: 0  millisecond  classification     state      prio  static_prio  \\\n",
       "0           0            0               1 -0.168526 -1.105059    -0.848177   \n",
       "1           1            1               1 -0.168526 -1.105059    -0.848177   \n",
       "2           2            2               1 -0.168526 -1.105059    -0.848177   \n",
       "3           3            3               1 -0.168526 -1.105059    -0.848177   \n",
       "4           4            4               1 -0.168526 -1.105059    -0.848177   \n",
       "\n",
       "   vm_truncate_count  free_area_cache  mm_users  map_count  ...  end_data  \\\n",
       "0          -0.657076         0.309909       724  -0.507528  ...       120   \n",
       "1          -0.657076         0.309909       724  -0.507528  ...       120   \n",
       "2          -0.657076         0.309909       724  -0.507528  ...       120   \n",
       "3          -0.657076         0.309909       724  -0.507528  ...       120   \n",
       "4          -0.657076         0.309909       724  -0.507528  ...       120   \n",
       "\n",
       "   last_interval     nvcsw    nivcsw   min_flt  maj_flt  fs_excl_counter  \\\n",
       "0           3473 -0.695251 -0.625663 -0.147906      120        -0.513406   \n",
       "1           3473 -0.695251 -0.625663 -0.147906      120        -0.513406   \n",
       "2           3473 -0.695251 -0.625663 -0.147906      120        -0.513406   \n",
       "3           3473 -0.695251 -0.625663 -0.147906      120        -0.513406   \n",
       "4           3473 -0.695251 -0.625663 -0.147906      120        -0.513406   \n",
       "\n",
       "      utime  stime     gtime  \n",
       "0 -0.465838      4 -0.509166  \n",
       "1 -0.465838      4 -0.509166  \n",
       "2 -0.465838      4 -0.509166  \n",
       "3 -0.465838      4 -0.509166  \n",
       "4 -0.465838      4 -0.509166  \n",
       "\n",
       "[5 rows x 24 columns]"
      ]
     },
     "execution_count": 12,
     "metadata": {},
     "output_type": "execute_result"
    }
   ],
   "source": [
    "df = pd.read_csv(\"/Users/behjiayi/Documents/GitHub/InnovationProject/data/EDA/Cleaned_malware_dataset.csv\")\n",
    "df.head()\n"
   ]
  },
  {
   "cell_type": "code",
   "execution_count": 13,
   "id": "9bb6e329",
   "metadata": {},
   "outputs": [],
   "source": [
    "X = df.drop(columns=[\"classification\", \"millisecond\"])\n",
    "y = df[\"classification\"]\n",
    "\n",
    "X_train, X_test, y_train, y_test = train_test_split(\n",
    "    X, y, test_size=0.2, random_state=42, stratify=y\n",
    ")\n"
   ]
  },
  {
   "cell_type": "code",
   "execution_count": 14,
   "id": "0b5d16b4",
   "metadata": {},
   "outputs": [
    {
     "name": "stdout",
     "output_type": "stream",
     "text": [
      "Logistic Regression Report:\n",
      "               precision    recall  f1-score   support\n",
      "\n",
      "           0       0.93      0.94      0.94     10000\n",
      "           1       0.94      0.93      0.94     10000\n",
      "\n",
      "    accuracy                           0.94     20000\n",
      "   macro avg       0.94      0.94      0.94     20000\n",
      "weighted avg       0.94      0.94      0.94     20000\n",
      "\n",
      "ROC AUC: 0.9373999999999999\n"
     ]
    },
    {
     "name": "stderr",
     "output_type": "stream",
     "text": [
      "/Library/Frameworks/Python.framework/Versions/3.12/lib/python3.12/site-packages/sklearn/linear_model/_logistic.py:473: ConvergenceWarning: lbfgs failed to converge after 1000 iteration(s) (status=1):\n",
      "STOP: TOTAL NO. OF ITERATIONS REACHED LIMIT\n",
      "\n",
      "Increase the number of iterations to improve the convergence (max_iter=1000).\n",
      "You might also want to scale the data as shown in:\n",
      "    https://scikit-learn.org/stable/modules/preprocessing.html\n",
      "Please also refer to the documentation for alternative solver options:\n",
      "    https://scikit-learn.org/stable/modules/linear_model.html#logistic-regression\n",
      "  n_iter_i = _check_optimize_result(\n"
     ]
    }
   ],
   "source": [
    "log_reg = LogisticRegression(max_iter=1000)\n",
    "log_reg.fit(X_train, y_train)\n",
    "y_pred_lr = log_reg.predict(X_test)\n",
    "\n",
    "print(\"Logistic Regression Report:\\n\", classification_report(y_test, y_pred_lr))\n",
    "print(\"ROC AUC:\", roc_auc_score(y_test, y_pred_lr))\n"
   ]
  },
  {
   "cell_type": "code",
   "execution_count": 15,
   "id": "86762037",
   "metadata": {},
   "outputs": [
    {
     "name": "stdout",
     "output_type": "stream",
     "text": [
      "Random Forest Report:\n",
      "               precision    recall  f1-score   support\n",
      "\n",
      "           0       1.00      1.00      1.00     10000\n",
      "           1       1.00      1.00      1.00     10000\n",
      "\n",
      "    accuracy                           1.00     20000\n",
      "   macro avg       1.00      1.00      1.00     20000\n",
      "weighted avg       1.00      1.00      1.00     20000\n",
      "\n",
      "ROC AUC: 1.0\n"
     ]
    }
   ],
   "source": [
    "rf = RandomForestClassifier(n_estimators=200, random_state=42)\n",
    "rf.fit(X_train, y_train)\n",
    "y_pred_rf = rf.predict(X_test)\n",
    "\n",
    "print(\"Random Forest Report:\\n\", classification_report(y_test, y_pred_rf))\n",
    "print(\"ROC AUC:\", roc_auc_score(y_test, y_pred_rf))\n"
   ]
  },
  {
   "cell_type": "code",
   "execution_count": 16,
   "id": "0710c569",
   "metadata": {},
   "outputs": [
    {
     "data": {
      "image/png": "[encoded data removed]",
      "text/plain": [
       "<Figure size 640x480 with 2 Axes>"
      ]
     },
     "metadata": {},
     "output_type": "display_data"
    }
   ],
   "source": [
    "sns.heatmap(confusion_matrix(y_test, y_pred_rf), annot=True, fmt=\"d\", cmap=\"Blues\")\n",
    "plt.title(\"Random Forest Confusion Matrix\")\n",
    "plt.xlabel(\"Predicted\")\n",
    "plt.ylabel(\"Actual\")\n",
    "plt.show()\n"
   ]
  },
  {
   "cell_type": "code",
   "execution_count": 17,
   "id": "96b405ac",
   "metadata": {},
   "outputs": [
    {
     "name": "stdout",
     "output_type": "stream",
     "text": [
      "K-Means Silhouette Score: 0.6148803258786457\n"
     ]
    }
   ],
   "source": [
    "kmeans = KMeans(n_clusters=2, random_state=42)\n",
    "cluster_labels = kmeans.fit_predict(X)\n",
    "\n",
    "print(\"K-Means Silhouette Score:\", silhouette_score(X, cluster_labels))\n"
   ]
  }
 ],
 "metadata": {
  "kernelspec": {
   "display_name": "Python 3",
   "language": "python",
   "name": "python3"
  },
  "language_info": {
   "codemirror_mode": {
    "name": "ipython",
    "version": 3
   },
   "file_extension": ".py",
   "mimetype": "text/x-python",
   "name": "python",
   "nbconvert_exporter": "python",
   "pygments_lexer": "ipython3",
   "version": "3.12.3"
  }
 },
 "nbformat": 4,
 "nbformat_minor": 5
}
